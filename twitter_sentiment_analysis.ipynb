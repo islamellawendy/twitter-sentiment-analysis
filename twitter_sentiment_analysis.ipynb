{
 "cells": [
  {
   "cell_type": "markdown",
   "metadata": {},
   "source": [
    "# Buzzdiggr Pitch to Egypt Air EA\n",
    "## Introduction\n",
    "Social media listening and sentiment analysis provide vital information to a business wanting to grow its revenues, retain the customers and provide greater customer experience. Airlines nowadays have turned their heads to the mass crowd in the social media in order to get use of this information. \n",
    "\n",
    "This use case will explore buzzdiggr's pitch to the reknowned Egypt Air, Egypt's main commercial flights. Egypt Air, like many are ***interested in looking into ways of understanding how they’re perceived online, and improve their consumer offerings to compete with other airlines based on customer voice.*** Using twitter data mentions, I will explore the various insights that can suggest on Egypt Air where to focus, what to look for and so."
   ]
  },
  {
   "cell_type": "markdown",
   "metadata": {},
   "source": [
    "## Libraries, Dataset perp"
   ]
  },
  {
   "cell_type": "code",
   "execution_count": null,
   "metadata": {},
   "outputs": [],
   "source": [
    "# Load the main libraries\n",
    "import numpy as np\n",
    "import pandas as pd\n",
    "import matplotlib.pyplot as plt\n",
    "from matplotlib import rc\n",
    "import seaborn as sb\n",
    "import plotly.express as px\n",
    "import plotly.graph_objects as go\n",
    "from plotly.subplots import make_subplots\n",
    "from collections import Counter\n",
    "import re\n",
    "from wordcloud import WordCloud, STOPWORDS\n",
    "import nltk\n",
    "\n",
    "%matplotlib inline"
   ]
  },
  {
   "cell_type": "code",
   "execution_count": null,
   "metadata": {},
   "outputs": [],
   "source": [
    "# Set off the warning\n",
    "pd.set_option('mode.chained_assignment', None)\n",
    "# To see all columns in my dataset\n",
    "pd.set_option('display.max_columns', 500)\n",
    "# Set off the warning in matplotlib\n",
    "np.warnings.filterwarnings('ignore')\n",
    "# load in the dataset into a pandas dataframe, I will look at the structure in the wrangling process\n",
    "df = pd.read_csv('airlines-extract.csv')\n",
    "#Download stop words\n",
    "nltk.download('words')"
   ]
  },
  {
   "cell_type": "code",
   "execution_count": null,
   "metadata": {},
   "outputs": [],
   "source": [
    "# First lookout on the data\n",
    "df.head(3)"
   ]
  },
  {
   "cell_type": "code",
   "execution_count": null,
   "metadata": {},
   "outputs": [],
   "source": [
    "# A bit of cleaning to the data, I will add a dummy column to help me out with the plots\n",
    "# Make columns lowercase adn remove spaces\n",
    "df.columns = map(str.lower, df.columns)\n",
    "df.columns = df.columns.str.replace(' ', '')\n",
    "df.mentioncreationdate = pd.to_datetime(df.mentioncreationdate)\n",
    "df.authoraccountcreationdate = pd.to_datetime(df.authoraccountcreationdate)\n",
    "df['count'] = 1"
   ]
  },
  {
   "cell_type": "code",
   "execution_count": null,
   "metadata": {},
   "outputs": [],
   "source": [
    "# Define the function to remove urls from the mention texts\n",
    "def remove_url(txt):\n",
    "    \"\"\"Replace URLs found in a text string with nothing \n",
    "    (i.e. it will remove the URL from the string).\n",
    "\n",
    "    Parameters\n",
    "    ----------\n",
    "    txt : string\n",
    "        A text string that you want to parse and remove urls.\n",
    "\n",
    "    Returns\n",
    "    -------\n",
    "    The same txt string with url's removed.\n",
    "    \"\"\"\n",
    "\n",
    "    return \" \".join(re.sub(\"([^0-9A-Za-z \\t])|(\\w+:\\/\\/\\S+)\", \"\", txt).split())\n",
    "\n",
    "# Fix the full text\n",
    "df['mentionfulltext'] = df['mentionfulltext'].str.lower()\n",
    "df['mentionfulltext'] = [remove_url(tweet) for tweet in df.mentionfulltext]"
   ]
  },
  {
   "cell_type": "markdown",
   "metadata": {},
   "source": [
    "## First EDA on the dataset\n",
    "Now to look at the data first glance.\n",
    "### Twitter mentions for the Airlines, How many times Egypt Air has been mentioned?"
   ]
  },
  {
   "cell_type": "code",
   "execution_count": null,
   "metadata": {},
   "outputs": [],
   "source": [
    "fig = px.pie(df, values= 'count', names='brand')\n",
    "fig.show()"
   ]
  },
  {
   "cell_type": "markdown",
   "metadata": {},
   "source": [
    "Egypt Air as been mentioned 13511 times, second lowest between the 4 airlines and slightly less than wuarter of the mentions of Lufthansa. From the first look, Egypt Air's presence looks weak on twitter. However that alone **cannot** tell if Egypt Air is precieved bad, good or in the middle. The next step is to look at the sentiment analysis.\n",
    "\n",
    "Now let's look at the mentions are spread sentimentally."
   ]
  },
  {
   "cell_type": "code",
   "execution_count": null,
   "metadata": {},
   "outputs": [],
   "source": [
    "# I will want to see the spread of sentiments over each brand and see where Egy Air stands\n",
    "sent_1 = df.groupby(['brand', 'sentiment'])['mentionid'].count()\n",
    "base = sb.color_palette(\"GnBu_d\", n_colors=3)\n",
    "sent_1.unstack().plot(kind = 'barh', stacked = True, color = base, figsize = (10,5));\n",
    "plt.legend(loc='center left', bbox_to_anchor=(1, 0.5), fontsize = 'large');\n",
    "plt.ylabel('Airline');\n",
    "plt.xlabel('Tweets');"
   ]
  },
  {
   "cell_type": "markdown",
   "metadata": {},
   "source": [
    "Neutral tweets are ones that mentioned the airline, but not yet decisive on whether the emotion towards the airline is positive or negative. Or it can be an official announcement. They do make up of most the tweets also.\n",
    "\n",
    "The negative emotions in tweets towards airlines are higher than the positive ones. Looking at the sentiment analysis next, will be looking at the sentiment ratio (Positive : Negative tweets), social media score for Egypt Air and deepen the social listening analysis."
   ]
  },
  {
   "cell_type": "markdown",
   "metadata": {},
   "source": [
    "### Sentiment Analysis"
   ]
  },
  {
   "cell_type": "code",
   "execution_count": null,
   "metadata": {},
   "outputs": [],
   "source": [
    "# Remove the neutral sentiment\n",
    "a =  df.loc[df['sentiment'] != 'Neutral']\n",
    "sent_2 = a.groupby(['sentiment'], as_index = False)['mentionid'].count()\n",
    "\n",
    "labels = sent_2['sentiment']\n",
    "values = sent_2['mentionid']\n",
    "\n",
    "# Use `hole` to create a donut-like pie chart (Yes, I like donuts more)\n",
    "fig = go.Figure(data=[go.Pie(labels=labels, values=values, hole=.6)])\n",
    "fig.show()"
   ]
  },
  {
   "cell_type": "code",
   "execution_count": null,
   "metadata": {
    "scrolled": false
   },
   "outputs": [],
   "source": [
    "test = df[df['sentiment'] != 'Neutral'].groupby(['brand','sentiment'], as_index = False)['mentioninteractions'].sum()\n",
    "# I just converted it to a list to get the values and add them Negative:Positive\n",
    "test2 = test.values.tolist()\n",
    "\n",
    "labels = ['Negative','Positive']\n",
    "\n",
    "# Create subplots, using 'domain' type for pie charts\n",
    "specs = [[{'type':'domain'}, {'type':'domain'}], [{'type':'domain'}, {'type':'domain'}]]\n",
    "fig = make_subplots(rows=2, cols=2, specs=specs)\n",
    "\n",
    "# Define pie charts\n",
    "fig.add_trace(go.Pie(labels=labels, values=[170680,17783], title='Egypt Air', title_position = 'bottom center', hole = 0.6), 1, 1)\n",
    "fig.add_trace(go.Pie(labels=labels, values=[6274356, 936221], title='Emirates', title_position = 'bottom center', hole = 0.6), 1, 2)\n",
    "fig.add_trace(go.Pie(labels=labels, values=[3369308, 2142353], title='Lufthansa', title_position = 'bottom center', hole = 0.6), 2, 1)\n",
    "fig.add_trace(go.Pie(labels=labels, values=[230678, 16407], title='Saudi Airlines', title_position = 'bottom center', hole = 0.6), 2, 2)\n",
    "\n",
    "# Tune layout and hover info\n",
    "fig.update_traces(hoverinfo='label+percent', textinfo='none')\n",
    "\n",
    "fig = go.Figure(fig)\n",
    "fig.show()"
   ]
  },
  {
   "cell_type": "markdown",
   "metadata": {},
   "source": [
    "Negative tweets occupy slightly more than the positive ones, with 53.9% of both tweet counts (we exclude the neutrals in the analysis).\n",
    "\n",
    "A deeper look does not sight well for Egypt Air, only **9.4%** of tweet mentions provide that customers have had a positive feedback. It seems that customers faced an unpleasant experience with Egypt Air, at this point the social media presence is weak and negative."
   ]
  },
  {
   "cell_type": "markdown",
   "metadata": {},
   "source": [
    "## Egypt Air's social media score on twitter\n",
    "### SMS against the other airlines, how well is Egypt Air doing?\n",
    "#### Sentiment Score\n",
    "##### Egypt Air"
   ]
  },
  {
   "cell_type": "code",
   "execution_count": null,
   "metadata": {},
   "outputs": [],
   "source": [
    "# Excluding neutrals\n",
    "# Egypt Air\n",
    "egy_pos = len(df[(df['brand'] == 'EgyptAir') & (df['sentiment'] == 'Positive')])\n",
    "egy_neg = len(df[(df['brand'] == 'EgyptAir') & (df['sentiment'] == 'Negative')])\n",
    "egy_tot = len(df[(df['brand'] == 'EgyptAir') & (df['sentiment'] != 'Neutral')])\n",
    "egy_air = df[df['brand'] == 'EgyptAir']\n",
    "egy_pos_sent = (egy_pos/(egy_tot))*100\n",
    "egy_neg_sent = (egy_neg/(egy_tot))*100\n",
    "egy_net_sent = (egy_pos_sent - egy_neg_sent)\n",
    "egy_reach = (egy_air.authorid.nunique()/egy_air.mentionid.count())*100\n",
    "egy_mention = len(egy_air)\n",
    "\n",
    "#Emirates\n",
    "emir_pos = len(df[(df['brand'] == 'Emirates') & (df['sentiment'] == 'Positive')])\n",
    "emir_neg = len(df[(df['brand'] == 'Emirates') & (df['sentiment'] == 'Negative')])\n",
    "emir_tot = len(df[(df['brand'] == 'Emirates') & (df['sentiment'] != 'Neutral')])\n",
    "emir_air = df[df['brand'] == 'Emirates']\n",
    "emir_pos_sent = (emir_pos/(emir_tot))*100\n",
    "emir_neg_sent = (emir_neg/(emir_tot))*100\n",
    "emir_net_sent = (emir_pos_sent - emir_neg_sent)\n",
    "emir_reach = (emir_air.authorid.nunique()/emir_air.mentionid.count())*100\n",
    "emir_mention = len(emir_air)\n",
    "\n",
    "#Lufthansa\n",
    "luft_pos = len(df[(df['brand'] == 'Lufthansa') & (df['sentiment'] == 'Positive')])\n",
    "luft_neg = len(df[(df['brand'] == 'Lufthansa') & (df['sentiment'] == 'Negative')])\n",
    "luft_tot = len(df[(df['brand'] == 'Lufthansa') & (df['sentiment'] != 'Neutral')])\n",
    "luft_air = df[df['brand'] == 'Lufthansa']\n",
    "luft_pos_sent = (luft_pos/(luft_tot))*100\n",
    "luft_neg_sent = (luft_neg/(luft_tot))*100\n",
    "luft_net_sent = (luft_pos_sent - luft_neg_sent)\n",
    "luft_reach = (luft_air.authorid.nunique()/luft_air.mentionid.count())*100\n",
    "luft_mention = len(luft_air)\n",
    "\n",
    "# Saudi Airlines\n",
    "saudi_pos = len(df[(df['brand'] == 'Saudi Airlines') & (df['sentiment'] == 'Positive')])\n",
    "saudi_neg = len(df[(df['brand'] == 'Saudi Airlines') & (df['sentiment'] == 'Negative')])\n",
    "saudi_tot = len(df[(df['brand'] == 'Saudi Airlines') & (df['sentiment'] != 'Neutral')])\n",
    "saudi_air = df[df['brand'] == 'Saudi Airlines']\n",
    "saudi_pos_sent = (saudi_pos/(saudi_tot))*100\n",
    "saudi_neg_sent = (saudi_neg/(saudi_tot))*100\n",
    "saudi_net_sent = (saudi_pos_sent - saudi_neg_sent)\n",
    "saudi_reach = (saudi_air.authorid.nunique()/saudi_air.mentionid.count())*100\n",
    "saudi_mention = len(saudi_air)"
   ]
  },
  {
   "cell_type": "code",
   "execution_count": null,
   "metadata": {},
   "outputs": [],
   "source": [
    "data = {'EgyptAir': [egy_net_sent, egy_reach, egy_mention], 'Emirates': [emir_net_sent, emir_reach, emir_mention],\n",
    "       'Lufthansa': [luft_net_sent, luft_reach, luft_mention], 'SaudiAirlines': [saudi_net_sent, saudi_reach, saudi_mention]}\n",
    "\n",
    "pd.DataFrame.from_dict(data, orient='index',\n",
    "                       columns=['Net Sentiment', 'Reach', 'Mention'])"
   ]
  },
  {
   "cell_type": "markdown",
   "metadata": {},
   "source": [
    "Egypt Air will need to do much better on the twitter platform, though 44.2% reach. The sentiment score shows the same as mentioned, negative experiences of customers as seen also from the pie chart."
   ]
  },
  {
   "cell_type": "markdown",
   "metadata": {},
   "source": [
    "## Sounds on twitter on Egypt Air's data\n",
    "### Postflight and Inflight\n",
    "Tagging the dataset with two categories, ***postflight*** and ***inflight***. Both tags contain topics of interest, The main measure is to see the sentiment with these tags (excluding neutral) against the mentions interactions that took place."
   ]
  },
  {
   "cell_type": "code",
   "execution_count": null,
   "metadata": {},
   "outputs": [],
   "source": [
    "df['inflight'] = pd.np.where(df['mentionfulltext'].str.contains(\"entertainment|movie|music\"), \"entertainment\",\n",
    "                            pd.np.where(df['mentionfulltext'].str.contains(\"toilet\"), \"toilet\",\n",
    "                            pd.np.where(df['mentionfulltext'].str.contains(\"service\"), \"service\",\n",
    "                            pd.np.where(df['mentionfulltext'].str.contains(\"smell|odor|odour\"), \"smell\",\n",
    "                            pd.np.where(df['mentionfulltext'].str.contains(\"passenger\"), \"passenger\",\n",
    "                            pd.np.where(df['mentionfulltext'].str.contains(\"crew|aircrew|cabincrew|attendant\"), \"crew\",\n",
    "                            pd.np.where(df['mentionfulltext'].str.contains(\"comfort|seat|seating|space\"), \"comfort\",\n",
    "                            pd.np.where(df['mentionfulltext'].str.contains(\"food|drink|beverage|water|juice|foodie\"), \"food/drink\",\n",
    "                            pd.np.where(df['mentionfulltext'].str.contains(\"trip\"), \"trip\",\"NaN\")))))))))\n",
    "\n",
    "df['postflight'] = pd.np.where(df['mentionfulltext'].str.contains(\"board|boarding|check|checkin|onboard\"), \"boarding\",\n",
    "                            pd.np.where(df['mentionfulltext'].str.contains(\"baggage|luggage|lost\"), \"luggage\",\n",
    "                            pd.np.where(df['mentionfulltext'].str.contains(\"cancel|cancellation|cancelation|overbook|delay\"), \"nuisance\",\n",
    "                            pd.np.where(df['mentionfulltext'].str.contains(\"lounge|reception\"), \"reception\",\n",
    "                            pd.np.where(df['mentionfulltext'].str.contains(\"price|cost|charge|money\"), \"price\",\n",
    "                            pd.np.where(df['mentionfulltext'].str.contains(\"compensation\"), \"compensation\",\n",
    "                            pd.np.where(df['mentionfulltext'].str.contains(\"book|online\"), \"booking\",\n",
    "                            pd.np.where(df['mentionfulltext'].str.contains(\"connection|layover|transit\"), \"transit\",\n",
    "                            pd.np.where(df['mentionfulltext'].str.contains(\"offer|special offer\"), \"offer\",\"NaN\")))))))))\n",
    "\n",
    "egy_air = df[(df['brand'] == 'EgyptAir') & (df['sentiment'] != 'Neutral')]"
   ]
  },
  {
   "cell_type": "code",
   "execution_count": null,
   "metadata": {},
   "outputs": [],
   "source": [
    "# Inflight Data\n",
    "egy_in = egy_air[(egy_air['inflight'] != 'NaN')]\n",
    "inflight_int = egy_in.groupby(['inflight','sentiment'], as_index = False)['mentioninteractions'].sum()\n",
    "# Postflight Data\n",
    "egy_post = egy_air[(egy_air['postflight'] != 'NaN')]\n",
    "postflight_int = egy_post.groupby(['postflight','sentiment'], as_index = False)['mentioninteractions'].sum()"
   ]
  },
  {
   "cell_type": "code",
   "execution_count": null,
   "metadata": {
    "scrolled": false
   },
   "outputs": [],
   "source": [
    "fig = px.bar(inflight_int, y='mentioninteractions', x='inflight',color = 'sentiment', barmode = 'stack',)\n",
    "fig.show()"
   ]
  },
  {
   "cell_type": "markdown",
   "metadata": {},
   "source": [
    "Most of inflight topics, though low interactions show more positive sentiment than the negative. Noteably, inflight service topics show the most positive interactions, meaning that customer experience in that area always returned satisfactory reviews.\n",
    "\n",
    "Egypt Air should look into retaining the level of services that could yeald more atraction to customers."
   ]
  },
  {
   "cell_type": "code",
   "execution_count": null,
   "metadata": {},
   "outputs": [],
   "source": [
    "fig = px.bar(postflight_int, y='mentioninteractions', x='postflight',color = 'sentiment', barmode = 'stack')\n",
    "fig.show()"
   ]
  },
  {
   "cell_type": "markdown",
   "metadata": {},
   "source": [
    "Looking at the postflight experience. Interactions are yet weak. But showing some interesting insights about the topics. interms of boarding (checkin boarding and so), nearly split reviews. This might indicate that Egypt Air do not offer a standout boarding procedures to their customers. Possibly look into applying digital boarding procedures and look for more ways to ease on the customers their boarding.\n",
    "\n",
    "Most of the customers face a hard time in booking their flight (online or offline), and this can be due to server connection issues or slow booking process on the shelf.\n",
    "\n",
    "Luggage is a critical topic, nearly 90% of the customers reported bad experiences concerning their luggage. This can be lost luggage, damaged, stolen, or any. A compensation policy should be able to tackle this experience. Moreover, ensure handling of luggage in and out of the planes might not be a complete ownership, but Egypt Air can maintain a level of reliability of their luggage handling inside airports.\n",
    "\n",
    "Egypt Air needs to have more sorting on flights that got cancelled and be able to reimburse customers, or reduce the amount of overbooked flights, maybe by creating an overlapping schedule for high demand destinations.\n",
    "\n",
    "A final note is that in terms of prices, some low as 44 interactions still provided positive feedback."
   ]
  },
  {
   "cell_type": "markdown",
   "metadata": {},
   "source": [
    "### Postflight/Inflight demographics\n",
    "#### Gender data analysis"
   ]
  },
  {
   "cell_type": "code",
   "execution_count": null,
   "metadata": {},
   "outputs": [],
   "source": [
    "test = df.groupby(['inflight','sentiment','authorgender','brand'], as_index = False)['mentioninteractions'].sum()\n",
    "\n",
    "test = test[(test['authorgender'] != 'Unknown') & (test['sentiment'] != 'Neutral') & (test['inflight'] != 'NaN') & \n",
    "            (test['brand']=='EgyptAir') & (test['authorgender'] != 'organization')]\n",
    "fig = px.treemap(test, path=['authorgender', 'sentiment', 'inflight'], values='mentioninteractions')\n",
    "fig.show()"
   ]
  },
  {
   "cell_type": "code",
   "execution_count": null,
   "metadata": {
    "scrolled": false
   },
   "outputs": [],
   "source": [
    "test = df.groupby(['postflight','sentiment','authorgender','brand'], as_index = False)['mentioninteractions'].sum()\n",
    "\n",
    "test = test[(test['authorgender'] != 'Unknown') & (test['sentiment'] != 'Neutral') & (test['postflight'] != 'NaN') & \n",
    "            (test['brand']=='EgyptAir') & (test['authorgender'] != 'organization')]\n",
    "fig = px.treemap(test, path=['authorgender', 'sentiment', 'postflight'], values='mentioninteractions')\n",
    "fig.show()"
   ]
  },
  {
   "cell_type": "markdown",
   "metadata": {},
   "source": [
    "nearly 3/4 of the tweets out there originated from males. For the inflight category, the most tweeted positive topic among both genders' tweets is the inflight services. Females though, shared different experiences beyond service, the second most topic is the entertainment (for males it was entertainment). Commonly between both, the flight trip tweeted as a bad experience.\n",
    "\n",
    "Postflight negative main topic was luggage in both genders. Same outlook for males and females with sharing 2nd and 3rd topics with bad experience (booking and nuisance). As stated before, Egypt Air needs to improve customer experience in boarding, booking, and luggage. Having improvements there would yield better experience and more exposure.\n",
    "\n",
    "Also, promoting the brand between female audience is important, as the female gender interaction with Egypt Air's brand is weak. More customer engagement would improve the traffiking volume of females and thus interactions (positive of course)."
   ]
  },
  {
   "cell_type": "markdown",
   "metadata": {},
   "source": [
    "### Countries with most interactions"
   ]
  },
  {
   "cell_type": "code",
   "execution_count": null,
   "metadata": {},
   "outputs": [],
   "source": [
    "test = df.groupby(['inflight','sentiment','authorcountry','brand'], as_index = False)['mentioninteractions'].sum()\n",
    "\n",
    "test = test[(test['authorcountry'] != 'Unknown') & (test['sentiment'] != 'Neutral') & (test['inflight'] != 'NaN') & \n",
    "            (test['brand']=='EgyptAir')]\n",
    "fig = px.treemap(test, path=['authorcountry', 'sentiment', 'inflight'], values='mentioninteractions')\n",
    "fig.show()"
   ]
  },
  {
   "cell_type": "code",
   "execution_count": null,
   "metadata": {},
   "outputs": [],
   "source": [
    "test = df.groupby(['postflight','sentiment','authorcountry','brand'], as_index = False)['mentioninteractions'].sum()\n",
    "\n",
    "test = test[(test['authorcountry'] != 'Unknown') & (test['sentiment'] != 'Neutral') & (test['postflight'] != 'NaN') & \n",
    "            (test['brand']=='EgyptAir')]\n",
    "fig = px.treemap(test, path=['authorcountry', 'sentiment', 'postflight'], values='mentioninteractions')\n",
    "fig.show()"
   ]
  },
  {
   "cell_type": "markdown",
   "metadata": {},
   "source": [
    "The final lookout is the reach of the brand to other places, originally an Egyptian ompany Egypt Air operates in many countries.\n",
    "\n",
    "Passengers from Ireland had the best inflight experience. As all tweets originated from there reported positive on the service topic. For Egyptian passengers too, service was on top. It is important to note that a full positive is a limitation on data, brand promotion in other countries is highly recommended to yield more customer reach (thus having mor interactions with these audience on twitter).\n",
    "\n",
    "For the postflight, posts from Nigeria show that customers experienced a non-satisfying time, with topics being heard over twitter, boarding, luggage and booking experiences. Though some positives along the way, still an indication of brand promotion overseas is very important. An opportunity that can be siezed here, is that customers from different countries mentioning the airline, which makes it a good deal to explore these reigons."
   ]
  },
  {
   "cell_type": "markdown",
   "metadata": {},
   "source": [
    "## Etihad Airways mentions"
   ]
  },
  {
   "cell_type": "code",
   "execution_count": null,
   "metadata": {},
   "outputs": [],
   "source": [
    "df['etihadmentions'] = df.mentionfulltext.str.contains('etihad|etihadairways|etihad airways')"
   ]
  },
  {
   "cell_type": "code",
   "execution_count": null,
   "metadata": {},
   "outputs": [],
   "source": [
    "etihad = df[df['etihadmentions'] == True]"
   ]
  },
  {
   "cell_type": "code",
   "execution_count": null,
   "metadata": {},
   "outputs": [],
   "source": [
    "#etihad.to_csv('etihad_mentions.csv')"
   ]
  },
  {
   "cell_type": "markdown",
   "metadata": {},
   "source": [
    "## Acknowledgements\n",
    "- [This link gave the main influence](https://awario.com/blog/airline-industry-social-listening-report/)\n",
    "For reach caluclations I used this [link](https://www.dummies.com/education/internet-basics/how-to-understand-social-mention-metrics/).\n",
    "\n",
    "- [Brandwatch](https://www.brandwatch.com/blog/how-airlines-can-use-social-listening-to-boost-online-reputation/) is a guide to some of the topis metrics I am trying to represent, I used the same annotation to categorizing topics (postflight and inflight)."
   ]
  },
  {
   "cell_type": "code",
   "execution_count": null,
   "metadata": {},
   "outputs": [],
   "source": []
  }
 ],
 "metadata": {
  "kernelspec": {
   "display_name": "Python 3",
   "language": "python",
   "name": "python3"
  },
  "language_info": {
   "codemirror_mode": {
    "name": "ipython",
    "version": 3
   },
   "file_extension": ".py",
   "mimetype": "text/x-python",
   "name": "python",
   "nbconvert_exporter": "python",
   "pygments_lexer": "ipython3",
   "version": "3.7.7"
  }
 },
 "nbformat": 4,
 "nbformat_minor": 4
}
