{
 "cells": [
  {
   "cell_type": "markdown",
   "metadata": {
    "slideshow": {
     "slide_type": "slide"
    }
   },
   "source": [
    "# Buzzdiggr Pitch to Egypt Air EA\n",
    "## Islam Ayman Emam"
   ]
  },
  {
   "cell_type": "markdown",
   "metadata": {
    "slideshow": {
     "slide_type": "slide"
    }
   },
   "source": [
    "## Agenda\n",
    "- EDA on the twitter dataset\n",
    "    - Twitter mentions on airlines (by tweet count)\n",
    "    - Reaction detect to these mentions (by tweet count)\n",
    "    - Sentiment analysis\n",
    "- Deeper dive, Egypt Air sentiment in the tweets\n",
    "    - Sentiment score\n",
    "    - Hearing the noises, topics on EA mentions\n",
    "    - Postflight and Inflight\n",
    "    - Topics' dempgraphics (gender and country)\n",
    "- Recommendations\n",
    "- Methodology\n",
    "- Key takeouts on the work\n",
    "- Etihad Boolean query"
   ]
  },
  {
   "cell_type": "code",
   "execution_count": null,
   "metadata": {
    "slideshow": {
     "slide_type": "skip"
    }
   },
   "outputs": [],
   "source": [
    "# Load the main libraries\n",
    "import numpy as np\n",
    "import pandas as pd\n",
    "import matplotlib.pyplot as plt\n",
    "from matplotlib import rc\n",
    "import seaborn as sb\n",
    "import plotly.express as px\n",
    "import plotly.graph_objects as go\n",
    "from plotly.subplots import make_subplots\n",
    "from collections import Counter\n",
    "import re\n",
    "from wordcloud import WordCloud, STOPWORDS\n",
    "import nltk\n",
    "\n",
    "%matplotlib inline"
   ]
  },
  {
   "cell_type": "code",
   "execution_count": null,
   "metadata": {
    "slideshow": {
     "slide_type": "skip"
    }
   },
   "outputs": [],
   "source": [
    "# Set off the warning\n",
    "pd.set_option('mode.chained_assignment', None)\n",
    "# To see all columns in my dataset\n",
    "pd.set_option('display.max_columns', 500)\n",
    "# Set off the warning in matplotlib\n",
    "np.warnings.filterwarnings('ignore')\n",
    "# load in the dataset into a pandas dataframe, I will look at the structure in the wrangling process\n",
    "df = pd.read_csv('airlines-extract.csv')\n",
    "#Download stop words\n",
    "nltk.download('words')"
   ]
  },
  {
   "cell_type": "code",
   "execution_count": null,
   "metadata": {
    "slideshow": {
     "slide_type": "skip"
    }
   },
   "outputs": [],
   "source": [
    "# A bit of cleaning to the data, I will add a dummy column to help me out with the plots\n",
    "# Make columns lowercase adn remove spaces\n",
    "df.columns = map(str.lower, df.columns)\n",
    "df.columns = df.columns.str.replace(' ', '')\n",
    "df.mentioncreationdate = pd.to_datetime(df.mentioncreationdate)\n",
    "df.authoraccountcreationdate = pd.to_datetime(df.authoraccountcreationdate)\n",
    "df['count'] = 1"
   ]
  },
  {
   "cell_type": "code",
   "execution_count": null,
   "metadata": {
    "slideshow": {
     "slide_type": "skip"
    }
   },
   "outputs": [],
   "source": [
    "# Define the function to remove urls from the mention texts\n",
    "def remove_url(txt):\n",
    "    \"\"\"Replace URLs found in a text string with nothing \n",
    "    (i.e. it will remove the URL from the string).\n",
    "\n",
    "    Parameters\n",
    "    ----------\n",
    "    txt : string\n",
    "        A text string that you want to parse and remove urls.\n",
    "\n",
    "    Returns\n",
    "    -------\n",
    "    The same txt string with url's removed.\n",
    "    \"\"\"\n",
    "\n",
    "    return \" \".join(re.sub(\"([^0-9A-Za-z \\t])|(\\w+:\\/\\/\\S+)\", \"\", txt).split())\n",
    "\n",
    "# Fix the full text\n",
    "df['mentionfulltext'] = df['mentionfulltext'].str.lower()\n",
    "df['mentionfulltext'] = [remove_url(tweet) for tweet in df.mentionfulltext]"
   ]
  },
  {
   "cell_type": "markdown",
   "metadata": {
    "slideshow": {
     "slide_type": "slide"
    }
   },
   "source": [
    "### EDA on the twitter dataset\n",
    "#### Twitter mentions on airlines (by tweet count)"
   ]
  },
  {
   "cell_type": "code",
   "execution_count": null,
   "metadata": {
    "slideshow": {
     "slide_type": "subslide"
    }
   },
   "outputs": [],
   "source": [
    "fig = px.pie(df, values= 'count', names='brand')\n",
    "fig.show()"
   ]
  },
  {
   "cell_type": "markdown",
   "metadata": {
    "slideshow": {
     "slide_type": "notes"
    }
   },
   "source": [
    "- EA at 12.6% of mentions\n",
    "- 3rd best"
   ]
  },
  {
   "cell_type": "markdown",
   "metadata": {
    "slideshow": {
     "slide_type": "slide"
    }
   },
   "source": [
    "#### Reaction detect to these mentions (by tweet count)"
   ]
  },
  {
   "cell_type": "code",
   "execution_count": null,
   "metadata": {
    "slideshow": {
     "slide_type": "subslide"
    }
   },
   "outputs": [],
   "source": [
    "# I will want to see the spread of sentiments over each brand and see where Egy Air stands\n",
    "sent_1 = df.groupby(['brand', 'sentiment'])['mentionid'].count()\n",
    "base = sb.color_palette(\"GnBu_d\", n_colors=3)\n",
    "sent_1.unstack().plot(kind = 'barh', stacked = True, color = base, figsize = (10,5));\n",
    "plt.legend(loc='center left', bbox_to_anchor=(1, 0.5), fontsize = 'large');\n",
    "plt.ylabel('Airline');\n",
    "plt.xlabel('Tweets');"
   ]
  },
  {
   "cell_type": "raw",
   "metadata": {
    "slideshow": {
     "slide_type": "notes"
    }
   },
   "source": [
    "- Many neutral tweets\n",
    "- Negative tweets more than positive ones"
   ]
  },
  {
   "cell_type": "markdown",
   "metadata": {
    "slideshow": {
     "slide_type": "slide"
    }
   },
   "source": [
    "#### Sentiment analysis (without the neutral sentiments)"
   ]
  },
  {
   "cell_type": "code",
   "execution_count": null,
   "metadata": {
    "slideshow": {
     "slide_type": "subslide"
    }
   },
   "outputs": [],
   "source": [
    "# Remove the neutral sentiment\n",
    "a =  df.loc[df['sentiment'] != 'Neutral']\n",
    "sent_2 = a.groupby(['sentiment'], as_index = False)['mentionid'].count()\n",
    "\n",
    "labels = sent_2['sentiment']\n",
    "values = sent_2['mentionid']\n",
    "\n",
    "# Use `hole` to create a donut-like pie chart (Yes, I like donuts more)\n",
    "fig = go.Figure(data=[go.Pie(labels=labels, values=values, hole=.6)])\n",
    "fig.show()"
   ]
  },
  {
   "cell_type": "markdown",
   "metadata": {
    "slideshow": {
     "slide_type": "notes"
    }
   },
   "source": [
    "**Positive : Negative**\n",
    "\n",
    "Negative slightly more"
   ]
  },
  {
   "cell_type": "code",
   "execution_count": null,
   "metadata": {
    "slideshow": {
     "slide_type": "subslide"
    }
   },
   "outputs": [],
   "source": [
    "test = df[df['sentiment'] != 'Neutral'].groupby(['brand','sentiment'], as_index = False)['mentioninteractions'].sum()\n",
    "# I just converted it to a list to get the values and add them Negative:Positive\n",
    "test2 = test.values.tolist()\n",
    "\n",
    "labels = ['Negative','Positive']\n",
    "\n",
    "# Create subplots, using 'domain' type for pie charts\n",
    "specs = [[{'type':'domain'}, {'type':'domain'}], [{'type':'domain'}, {'type':'domain'}]]\n",
    "fig = make_subplots(rows=2, cols=2, specs=specs)\n",
    "\n",
    "# Define pie charts\n",
    "fig.add_trace(go.Pie(labels=labels, values=[170680,17783], title='Egypt Air', title_position = 'bottom center', hole = 0.6), 1, 1)\n",
    "fig.add_trace(go.Pie(labels=labels, values=[6274356, 936221], title='Emirates', title_position = 'bottom center', hole = 0.6), 1, 2)\n",
    "fig.add_trace(go.Pie(labels=labels, values=[3369308, 2142353], title='Lufthansa', title_position = 'bottom center', hole = 0.6), 2, 1)\n",
    "fig.add_trace(go.Pie(labels=labels, values=[230678, 16407], title='Saudi Airlines', title_position = 'bottom center', hole = 0.6), 2, 2)\n",
    "\n",
    "# Tune layout and hover info\n",
    "fig.update_traces(hoverinfo='label+percent', textinfo='none')\n",
    "\n",
    "fig = go.Figure(fig)\n",
    "fig.show()"
   ]
  },
  {
   "cell_type": "markdown",
   "metadata": {
    "slideshow": {
     "slide_type": "notes"
    }
   },
   "source": [
    "A deeper look does not sight well for Egypt Air, only **9.4%** of tweet mentions provide that customers have had a positive feedback"
   ]
  },
  {
   "cell_type": "markdown",
   "metadata": {
    "slideshow": {
     "slide_type": "slide"
    }
   },
   "source": [
    "### Deeper dive, Egypt Air sentiment in the tweets\n",
    "#### Sentiment score"
   ]
  },
  {
   "cell_type": "code",
   "execution_count": null,
   "metadata": {
    "slideshow": {
     "slide_type": "skip"
    }
   },
   "outputs": [],
   "source": [
    "# Excluding neutrals\n",
    "# Egypt Air\n",
    "egy_pos = len(df[(df['brand'] == 'EgyptAir') & (df['sentiment'] == 'Positive')])\n",
    "egy_neg = len(df[(df['brand'] == 'EgyptAir') & (df['sentiment'] == 'Negative')])\n",
    "egy_tot = len(df[(df['brand'] == 'EgyptAir') & (df['sentiment'] != 'Neutral')])\n",
    "egy_air = df[df['brand'] == 'EgyptAir']\n",
    "egy_pos_sent = (egy_pos/(egy_tot))*100\n",
    "egy_neg_sent = (egy_neg/(egy_tot))*100\n",
    "egy_net_sent = (egy_pos_sent - egy_neg_sent)\n",
    "egy_reach = (egy_air.authorid.nunique()/egy_air.mentionid.count())*100\n",
    "egy_mention = len(egy_air)\n",
    "\n",
    "#Emirates\n",
    "emir_pos = len(df[(df['brand'] == 'Emirates') & (df['sentiment'] == 'Positive')])\n",
    "emir_neg = len(df[(df['brand'] == 'Emirates') & (df['sentiment'] == 'Negative')])\n",
    "emir_tot = len(df[(df['brand'] == 'Emirates') & (df['sentiment'] != 'Neutral')])\n",
    "emir_air = df[df['brand'] == 'Emirates']\n",
    "emir_pos_sent = (emir_pos/(emir_tot))*100\n",
    "emir_neg_sent = (emir_neg/(emir_tot))*100\n",
    "emir_net_sent = (emir_pos_sent - emir_neg_sent)\n",
    "emir_reach = (emir_air.authorid.nunique()/emir_air.mentionid.count())*100\n",
    "emir_mention = len(emir_air)\n",
    "\n",
    "#Lufthansa\n",
    "luft_pos = len(df[(df['brand'] == 'Lufthansa') & (df['sentiment'] == 'Positive')])\n",
    "luft_neg = len(df[(df['brand'] == 'Lufthansa') & (df['sentiment'] == 'Negative')])\n",
    "luft_tot = len(df[(df['brand'] == 'Lufthansa') & (df['sentiment'] != 'Neutral')])\n",
    "luft_air = df[df['brand'] == 'Lufthansa']\n",
    "luft_pos_sent = (luft_pos/(luft_tot))*100\n",
    "luft_neg_sent = (luft_neg/(luft_tot))*100\n",
    "luft_net_sent = (luft_pos_sent - luft_neg_sent)\n",
    "luft_reach = (luft_air.authorid.nunique()/luft_air.mentionid.count())*100\n",
    "luft_mention = len(luft_air)\n",
    "\n",
    "# Saudi Airlines\n",
    "saudi_pos = len(df[(df['brand'] == 'Saudi Airlines') & (df['sentiment'] == 'Positive')])\n",
    "saudi_neg = len(df[(df['brand'] == 'Saudi Airlines') & (df['sentiment'] == 'Negative')])\n",
    "saudi_tot = len(df[(df['brand'] == 'Saudi Airlines') & (df['sentiment'] != 'Neutral')])\n",
    "saudi_air = df[df['brand'] == 'Saudi Airlines']\n",
    "saudi_pos_sent = (saudi_pos/(saudi_tot))*100\n",
    "saudi_neg_sent = (saudi_neg/(saudi_tot))*100\n",
    "saudi_net_sent = (saudi_pos_sent - saudi_neg_sent)\n",
    "saudi_reach = (saudi_air.authorid.nunique()/saudi_air.mentionid.count())*100\n",
    "saudi_mention = len(saudi_air)"
   ]
  },
  {
   "cell_type": "code",
   "execution_count": null,
   "metadata": {
    "slideshow": {
     "slide_type": "slide"
    }
   },
   "outputs": [],
   "source": [
    "data = {'EgyptAir': [egy_net_sent, egy_reach, egy_mention], 'Emirates': [emir_net_sent, emir_reach, emir_mention],\n",
    "       'Lufthansa': [luft_net_sent, luft_reach, luft_mention], 'SaudiAirlines': [saudi_net_sent, saudi_reach, saudi_mention]}\n",
    "\n",
    "pd.DataFrame.from_dict(data, orient='index',\n",
    "                       columns=['Net Sentiment', 'Reach', 'Mention'])"
   ]
  },
  {
   "cell_type": "markdown",
   "metadata": {
    "slideshow": {
     "slide_type": "notes"
    }
   },
   "source": [
    "- 2nd worst on net sentiment\n",
    "- High reach, but for the wrong reason"
   ]
  },
  {
   "cell_type": "markdown",
   "metadata": {
    "slideshow": {
     "slide_type": "slide"
    }
   },
   "source": [
    "### Hearing the noises, topics on EA mentions"
   ]
  },
  {
   "cell_type": "code",
   "execution_count": null,
   "metadata": {
    "slideshow": {
     "slide_type": "subslide"
    }
   },
   "outputs": [],
   "source": [
    "df['inflight'] = pd.np.where(df['mentionfulltext'].str.contains(\"entertainment|movie|music\"), \"entertainment\",\n",
    "                            pd.np.where(df['mentionfulltext'].str.contains(\"toilet\"), \"toilet\",\n",
    "                            pd.np.where(df['mentionfulltext'].str.contains(\"service\"), \"service\",\n",
    "                            pd.np.where(df['mentionfulltext'].str.contains(\"smell|odor|odour\"), \"smell\",\n",
    "                            pd.np.where(df['mentionfulltext'].str.contains(\"passenger\"), \"passenger\",\n",
    "                            pd.np.where(df['mentionfulltext'].str.contains(\"crew|aircrew|cabincrew|attendant\"), \"crew\",\n",
    "                            pd.np.where(df['mentionfulltext'].str.contains(\"comfort|seat|seating|space\"), \"comfort\",\n",
    "                            pd.np.where(df['mentionfulltext'].str.contains(\"food|drink|beverage|water|juice|foodie\"), \"food/drink\",\n",
    "                            pd.np.where(df['mentionfulltext'].str.contains(\"trip\"), \"trip\",\"NaN\")))))))))\n",
    "\n",
    "df['postflight'] = pd.np.where(df['mentionfulltext'].str.contains(\"board|boarding|check|checkin|onboard\"), \"boarding\",\n",
    "                            pd.np.where(df['mentionfulltext'].str.contains(\"baggage|luggage|lost\"), \"luggage\",\n",
    "                            pd.np.where(df['mentionfulltext'].str.contains(\"cancel|cancellation|cancelation|overbook|delay\"), \"nuisance\",\n",
    "                            pd.np.where(df['mentionfulltext'].str.contains(\"lounge|reception\"), \"reception\",\n",
    "                            pd.np.where(df['mentionfulltext'].str.contains(\"price|cost|charge|money\"), \"price\",\n",
    "                            pd.np.where(df['mentionfulltext'].str.contains(\"compensation\"), \"compensation\",\n",
    "                            pd.np.where(df['mentionfulltext'].str.contains(\"book|online\"), \"booking\",\n",
    "                            pd.np.where(df['mentionfulltext'].str.contains(\"connection|layover|transit\"), \"transit\",\n",
    "                            pd.np.where(df['mentionfulltext'].str.contains(\"offer|special offer\"), \"offer\",\"NaN\")))))))))\n",
    "\n",
    "egy_air = df[(df['brand'] == 'EgyptAir') & (df['sentiment'] != 'Neutral')]"
   ]
  },
  {
   "cell_type": "markdown",
   "metadata": {
    "slideshow": {
     "slide_type": "slide"
    }
   },
   "source": [
    "#### Postflight and Inflight"
   ]
  },
  {
   "cell_type": "code",
   "execution_count": null,
   "metadata": {
    "slideshow": {
     "slide_type": "skip"
    }
   },
   "outputs": [],
   "source": [
    "# Inflight Data\n",
    "egy_in = egy_air[(egy_air['inflight'] != 'NaN')]\n",
    "inflight_int = egy_in.groupby(['inflight','sentiment'], as_index = False)['mentioninteractions'].sum()\n",
    "# Postflight Data\n",
    "egy_post = egy_air[(egy_air['postflight'] != 'NaN')]\n",
    "postflight_int = egy_post.groupby(['postflight','sentiment'], as_index = False)['mentioninteractions'].sum()"
   ]
  },
  {
   "cell_type": "markdown",
   "metadata": {
    "slideshow": {
     "slide_type": "slide"
    }
   },
   "source": [
    "##### Inflight Topics"
   ]
  },
  {
   "cell_type": "code",
   "execution_count": null,
   "metadata": {
    "slideshow": {
     "slide_type": "subslide"
    }
   },
   "outputs": [],
   "source": [
    "fig = px.bar(inflight_int, y='mentioninteractions', x='inflight',color = 'sentiment', barmode = 'stack',)\n",
    "fig.show()"
   ]
  },
  {
   "cell_type": "markdown",
   "metadata": {
    "slideshow": {
     "slide_type": "notes"
    }
   },
   "source": [
    "- Low interactions\n",
    "- More positive sentiment on service, then passenger\n",
    "- Trip experience, not the best\n",
    "- Inflight crew got some backing"
   ]
  },
  {
   "cell_type": "markdown",
   "metadata": {
    "slideshow": {
     "slide_type": "slide"
    }
   },
   "source": [
    "##### Postflight Topics"
   ]
  },
  {
   "cell_type": "code",
   "execution_count": null,
   "metadata": {
    "slideshow": {
     "slide_type": "subslide"
    }
   },
   "outputs": [],
   "source": [
    "fig = px.bar(postflight_int, y='mentioninteractions', x='postflight',color = 'sentiment', barmode = 'stack')\n",
    "fig.show()"
   ]
  },
  {
   "cell_type": "markdown",
   "metadata": {
    "slideshow": {
     "slide_type": "notes"
    }
   },
   "source": [
    "- Worst Postflight experience, luggage\n",
    "- Booking procedures more neg than pos\n",
    "- Boarding has a mixed emotion reviews\n",
    "- Some suffered cancellation, overbook, etc.\n",
    "- Prices are good though"
   ]
  },
  {
   "cell_type": "markdown",
   "metadata": {
    "slideshow": {
     "slide_type": "slide"
    }
   },
   "source": [
    "#### Topics' dempgraphics (gender and country)"
   ]
  },
  {
   "cell_type": "markdown",
   "metadata": {
    "slideshow": {
     "slide_type": "slide"
    }
   },
   "source": [
    "##### By Gender"
   ]
  },
  {
   "cell_type": "code",
   "execution_count": null,
   "metadata": {
    "scrolled": false,
    "slideshow": {
     "slide_type": "subslide"
    }
   },
   "outputs": [],
   "source": [
    "test = df.groupby(['inflight','sentiment','authorgender','brand'], as_index = False)['mentioninteractions'].sum()\n",
    "\n",
    "test = test[(test['authorgender'] != 'Unknown') & (test['sentiment'] != 'Neutral') & (test['inflight'] != 'NaN') & \n",
    "            (test['brand']=='EgyptAir') & (test['authorgender'] != 'organization')]\n",
    "fig = px.treemap(test, path=['authorgender', 'sentiment', 'inflight'], values='mentioninteractions')\n",
    "fig.show()"
   ]
  },
  {
   "cell_type": "markdown",
   "metadata": {
    "slideshow": {
     "slide_type": "notes"
    }
   },
   "source": [
    "- nearly 75% of interactions related to male tweets\n",
    "- Services are most thanked\n",
    "- Entertainment experience came as second important to females\n",
    "- Passennger the same for males\n",
    "- Trip experience frowned at for both genders\n",
    "- Nost males, bad experience in comfort and passenger"
   ]
  },
  {
   "cell_type": "code",
   "execution_count": null,
   "metadata": {
    "slideshow": {
     "slide_type": "subslide"
    }
   },
   "outputs": [],
   "source": [
    "test = df.groupby(['postflight','sentiment','authorgender','brand'], as_index = False)['mentioninteractions'].sum()\n",
    "\n",
    "test = test[(test['authorgender'] != 'Unknown') & (test['sentiment'] != 'Neutral') & (test['postflight'] != 'NaN') & \n",
    "            (test['brand']=='EgyptAir') & (test['authorgender'] != 'organization')]\n",
    "fig = px.treemap(test, path=['authorgender', 'sentiment', 'postflight'], values='mentioninteractions')\n",
    "fig.show()"
   ]
  },
  {
   "cell_type": "markdown",
   "metadata": {
    "slideshow": {
     "slide_type": "notes"
    }
   },
   "source": [
    "- Still nearly 75% of interactions related to the males\n",
    "- Many negatives for males aroung luggage, booking and nuisance (overbooking, cancellation)\n",
    "- Luggage with shared fortunes for females"
   ]
  },
  {
   "cell_type": "markdown",
   "metadata": {
    "slideshow": {
     "slide_type": "slide"
    }
   },
   "source": [
    "##### By Country"
   ]
  },
  {
   "cell_type": "code",
   "execution_count": null,
   "metadata": {
    "slideshow": {
     "slide_type": "subslide"
    }
   },
   "outputs": [],
   "source": [
    "test = df.groupby(['inflight','sentiment','authorcountry','brand'], as_index = False)['mentioninteractions'].sum()\n",
    "\n",
    "test = test[(test['authorcountry'] != 'Unknown') & (test['sentiment'] != 'Neutral') & (test['inflight'] != 'NaN') & \n",
    "            (test['brand']=='EgyptAir')]\n",
    "fig = px.treemap(test, path=['authorcountry', 'sentiment', 'inflight'], values='mentioninteractions')\n",
    "fig.show()"
   ]
  },
  {
   "cell_type": "markdown",
   "metadata": {
    "slideshow": {
     "slide_type": "notes"
    }
   },
   "source": [
    "- Ireland passengers with best experience, inflight service\n",
    "- Egypt's passengers also\n",
    "- General outlook on other countries, low interactions.\n",
    "- Nigerian passengers with the most frowned at experiences"
   ]
  },
  {
   "cell_type": "code",
   "execution_count": null,
   "metadata": {
    "slideshow": {
     "slide_type": "subslide"
    }
   },
   "outputs": [],
   "source": [
    "test = df.groupby(['postflight','sentiment','authorcountry','brand'], as_index = False)['mentioninteractions'].sum()\n",
    "\n",
    "test = test[(test['authorcountry'] != 'Unknown') & (test['sentiment'] != 'Neutral') & (test['postflight'] != 'NaN') & \n",
    "            (test['brand']=='EgyptAir')]\n",
    "fig = px.treemap(test, path=['authorcountry', 'sentiment', 'postflight'], values='mentioninteractions')\n",
    "fig.show()"
   ]
  },
  {
   "cell_type": "markdown",
   "metadata": {
    "slideshow": {
     "slide_type": "notes"
    }
   },
   "source": [
    "- Nigerian passengers did not get a satisfactory experience\n",
    "- Egyptian passengers got a good booking experience!\n",
    "- General outlook on other countries, low impact."
   ]
  },
  {
   "cell_type": "markdown",
   "metadata": {
    "slideshow": {
     "slide_type": "slide"
    }
   },
   "source": [
    "### Recommendations\n",
    "- More exposure and customer engagement on twitter\n",
    "- Interact more to negative experience, learn to improve on that\n",
    "- retain level of inflight quality, look for ways to improve on singular experiences\n",
    "- More focus on the female genders, interact more and occupy more information about their experiences\n",
    "- Advise on more indepth to topics clustering, provide more  'to customer' customizable features to improve experiences\n",
    "- Improvements on postflight experiences, much needed in terms of facilities, and booking experience\n",
    "- Reach campaigns to customers from other countries, enagage more, hear more and try to attract.\n",
    "- Benchmark setting to [the top airline](https://awario.com/blog/airline-industry-social-listening-report/)\n",
    "- Better social preception >> more positive sentiment >> Better net sentiment score"
   ]
  },
  {
   "cell_type": "markdown",
   "metadata": {
    "slideshow": {
     "slide_type": "slide"
    }
   },
   "source": [
    "### Methodology\n",
    "- Net sentiment score and reach influenced by [Awario's report](https://awario.com/blog/airline-industry-social-listening-report/) and this [link](https://www.dummies.com/education/internet-basics/how-to-understand-social-mention-metrics/).\n",
    "- [Brandwatch](https://www.brandwatch.com/blog/how-airlines-can-use-social-listening-to-boost-online-reputation/) is a guide to some of the topis metrics I am trying to represent, I used the same annotation to categorizing topics (postflight and inflight)."
   ]
  },
  {
   "cell_type": "markdown",
   "metadata": {
    "slideshow": {
     "slide_type": "slide"
    }
   },
   "source": [
    "### Key takeouts on the work\n",
    "- Provided that this is a sample data\n",
    "- This is a general presentation, can be moved foreward using much more advanced analytics\n",
    "- Tagging was done manually based on search for top keywords, accuracy went below 50%\n",
    "- More improvement on tagging can yield to better understanding of the data\n",
    "- The use of external source data was challenging\n",
    "    - Coding error in my python and configurations\n",
    "    - More feature engineering might be needed (limited experience on the topic hindered me)\n",
    "- Yesterday I discovered a wrong coding frame in the word cloud definition, so I rebuilt my analysis as seen\n",
    "\n",
    "***To move forward from this, I would be able to learn more about tag clustering, use it to generate word clouds for socail media hearing. More on the topic of wrangling data from other resources, I will need to revise my Python installation and get back to the old notebooks.***"
   ]
  },
  {
   "cell_type": "markdown",
   "metadata": {
    "slideshow": {
     "slide_type": "slide"
    }
   },
   "source": [
    "### Oh, here is the etihad boolean query"
   ]
  },
  {
   "cell_type": "code",
   "execution_count": null,
   "metadata": {
    "slideshow": {
     "slide_type": "slide"
    }
   },
   "outputs": [],
   "source": [
    "df['etihadmentions'] = df.mentionfulltext.str.contains('etihad|etihadairways|etihad airways')\n",
    "etihad = df[df['etihadmentions'] == True]\n",
    "etihad.head()"
   ]
  },
  {
   "cell_type": "code",
   "execution_count": null,
   "metadata": {
    "slideshow": {
     "slide_type": "slide"
    }
   },
   "outputs": [],
   "source": [
    "#etihad.to_csv('etihad_mentions.csv')"
   ]
  },
  {
   "cell_type": "markdown",
   "metadata": {
    "slideshow": {
     "slide_type": "notes"
    }
   },
   "source": [
    "In case you need to export the data, remove the hashtag and run the cell."
   ]
  }
 ],
 "metadata": {
  "celltoolbar": "Slideshow",
  "kernelspec": {
   "display_name": "Python 3",
   "language": "python",
   "name": "python3"
  },
  "language_info": {
   "codemirror_mode": {
    "name": "ipython",
    "version": 3
   },
   "file_extension": ".py",
   "mimetype": "text/x-python",
   "name": "python",
   "nbconvert_exporter": "python",
   "pygments_lexer": "ipython3",
   "version": "3.7.7"
  }
 },
 "nbformat": 4,
 "nbformat_minor": 4
}
